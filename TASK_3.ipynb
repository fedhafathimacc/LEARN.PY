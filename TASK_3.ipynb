{
  "nbformat": 4,
  "nbformat_minor": 0,
  "metadata": {
    "colab": {
      "name": "TASK 3.ipynb",
      "provenance": [],
      "include_colab_link": true
    },
    "kernelspec": {
      "name": "python3",
      "display_name": "Python 3"
    },
    "language_info": {
      "name": "python"
    }
  },
  "cells": [
    {
      "cell_type": "markdown",
      "metadata": {
        "id": "view-in-github",
        "colab_type": "text"
      },
      "source": [
        "<a href=\"https://colab.research.google.com/github/fedhafathimacc/LEARN.PY/blob/main/TASK_3.ipynb\" target=\"_parent\"><img src=\"https://colab.research.google.com/assets/colab-badge.svg\" alt=\"Open In Colab\"/></a>"
      ]
    },
    {
      "cell_type": "markdown",
      "metadata": {
        "id": "z20IIB0eUQMN"
      },
      "source": [
        "1 - Write a program which takes a number as input from the user and check whether the number is odd or even.If odd print the number is odd if not print it is even."
      ]
    },
    {
      "cell_type": "code",
      "metadata": {
        "id": "dVgGJ-wTVRit"
      },
      "source": [
        "#please enter your answer below this line\n",
        "num=int(input(\"enter a number:\"))\n",
        "rem=num%2\n",
        "if rem>0:\n",
        "  print(\"The number is odd\")\n",
        "else:\n",
        "  print(\"The number is even\")\n"
      ],
      "execution_count": null,
      "outputs": []
    },
    {
      "cell_type": "markdown",
      "metadata": {
        "id": "7778XD8PVblj"
      },
      "source": [
        "2 -Write a program to find the largest among three numbers and print the largest number."
      ]
    },
    {
      "cell_type": "code",
      "metadata": {
        "id": "m0tUOkOFWR-d"
      },
      "source": [
        "#please enter your answer below this line\n",
        "A=int(input(\"enter first number:\"))\n",
        "B=int(input(\"enter second number:\"))\n",
        "C=int(input(\"enter third number:\"))\n",
        "if A>B and A>C:\n",
        "  largest=A\n",
        "elif B>C:\n",
        "  largest=B\n",
        "else:\n",
        "  largest=C\n",
        "print(\"The largest number is \",largest)"
      ],
      "execution_count": null,
      "outputs": []
    },
    {
      "cell_type": "markdown",
      "metadata": {
        "id": "Jg2Ns4OQWaJy"
      },
      "source": [
        "3 -Write a function to prompt for a score between 0.0 and 1.0.\n",
        "\n",
        "    If the score is out of range, print an error.\n",
        "    If the score is between 0.0 and 1.0, print a grade using the following table:\n",
        "    Score Grade\n",
        "             Score\tGrade\n",
        "            >= 0.9\tA\n",
        "            >= 0.8\tB\n",
        "            >= 0.7\tC\n",
        "            >= 0.6\tD\n",
        "             < 0.6\tF\n",
        "If the user enters a value out of range, print a suitable error message and exit. For the test, enter a score of 0.85."
      ]
    },
    {
      "cell_type": "code",
      "metadata": {
        "id": "6DLbGe6XXZPx"
      },
      "source": [
        "#please enter your answer below this line\n",
        "a=float(input(\"enter score\":))\n",
        "if a>=1.0:\n",
        "  x=\"error\"\n",
        "elif a>=0.9:\n",
        "  x=\"A\"\n",
        "elif a>=0.8:\n",
        "  x=\"B\"\n",
        "elif a>=0.7:\n",
        "  x=\"C\"\n",
        "elif a>=0.6:\n",
        "  x=\"D\"\n",
        " elif a<0.6:\n",
        "    x=\"F\"\n",
        "else:\n",
        "  x=Grade\n",
        "  print(x)\n"
      ],
      "execution_count": null,
      "outputs": []
    },
    {
      "cell_type": "markdown",
      "metadata": {
        "id": "-o0scDq7WkVT"
      },
      "source": [
        ""
      ]
    }
  ]
}