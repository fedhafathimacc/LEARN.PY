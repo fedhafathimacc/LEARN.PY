{
  "nbformat": 4,
  "nbformat_minor": 0,
  "metadata": {
    "colab": {
      "name": "TASK  7.ipynb",
      "provenance": [],
      "include_colab_link": true
    },
    "kernelspec": {
      "name": "python3",
      "display_name": "Python 3"
    },
    "language_info": {
      "name": "python"
    }
  },
  "cells": [
    {
      "cell_type": "markdown",
      "metadata": {
        "id": "view-in-github",
        "colab_type": "text"
      },
      "source": [
        "<a href=\"https://colab.research.google.com/github/fedhafathimacc/LEARN.PY/blob/main/TASK_7.ipynb\" target=\"_parent\"><img src=\"https://colab.research.google.com/assets/colab-badge.svg\" alt=\"Open In Colab\"/></a>"
      ]
    },
    {
      "cell_type": "markdown",
      "metadata": {
        "id": "b0V3vwzcydKy"
      },
      "source": [
        "1. Write a program to check whether a  string is palindrome or not using functions. \n",
        "\n",
        "   ( A function is to be created to check whether the string is palindrome and it should give the output true or false to the main program)"
      ]
    },
    {
      "cell_type": "code",
      "metadata": {
        "id": "M2Mi7EOdyxiu"
      },
      "source": [
        "#please enter the code below this line.\n",
        "def check(st):\n",
        "  rev=st[::-1]\n",
        "  print(\"string:\",st)\n",
        "  print(\"reverse:\",rev)\n",
        "  if (st==rev):\n",
        "    return True\n",
        "  else:\n",
        "    return False\n",
        "x=input(\"enter a string:\")\n",
        "if check(x):\n",
        "  print(\"true\")\n",
        "else:\n",
        "  print(\"false\")"
      ],
      "execution_count": null,
      "outputs": []
    },
    {
      "cell_type": "markdown",
      "metadata": {
        "id": "vSiShTyOzEz-"
      },
      "source": [
        "2.  Write a menu driven program to find largest element in L, smallest element, avg of all values, sum of all values in L. All these operation should be performed in different functions and the result should be returned.\n",
        "\n",
        "\n",
        "      L=[23,24,11,90,1,41,9,99,28,56,72]"
      ]
    },
    {
      "cell_type": "code",
      "metadata": {
        "id": "fRtMIw_CzsmO"
      },
      "source": [
        "#please enter the code below this line\n",
        "L=[23,24,11,90,1,41,9,99,28,56,72]\n",
        "def largest(L):\n",
        "    max = L[0] \n",
        "    for x in L: \n",
        "        if x > max : \n",
        "             max = x \n",
        "    return max\n",
        "def smallest(L):\n",
        "    min = L[0] \n",
        "    for x in L: \n",
        "        if x <min : \n",
        "             min = x \n",
        "    return min\n",
        "def Average(L):\n",
        "\treturn sum(L) / len(L)\n",
        "def sums(L):\n",
        "\treturn sum(L)\n",
        "while True:\n",
        "    print (\"Menu driven program\")\n",
        "    print (\"1.Largest number of L \")\n",
        "    print (\"2.Smallest number of L \")\n",
        "    print (\"3.Average of all numbers \")\n",
        "    print (\"4.Sum of all elements \")\n",
        "    print(\"5.Exit\")\n",
        "    choice=int(input(\"Enter your choice:\"))\n",
        "    if (choice==1):\n",
        "    \tprint(\"largest number of L is\",largest(L))\n",
        "    elif (choice==2):\n",
        "    \tprint(\"smallest number of L is\",smallest(L))\n",
        "    elif (choice==3):\n",
        "    \tprint(\"Average of all the numbers in L\",Average(L))\n",
        "    elif(choice==4):\n",
        "    \tprint(\"Sum of all the numbers in L\",sums(L))\n",
        "    elif (choice==5):\n",
        "    \texit()\n",
        "      \n",
        "\n",
        "    else:\n",
        "      print(\"wrong choice\")\n",
        "\n",
        "\n",
        "\n",
        "\n",
        "\n"
      ],
      "execution_count": null,
      "outputs": []
    }
  ]
}