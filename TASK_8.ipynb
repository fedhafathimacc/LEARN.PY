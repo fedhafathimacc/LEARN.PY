{
  "nbformat": 4,
  "nbformat_minor": 0,
  "metadata": {
    "colab": {
      "name": "TASK 8.ipynb",
      "provenance": [],
      "include_colab_link": true
    },
    "kernelspec": {
      "name": "python3",
      "display_name": "Python 3"
    },
    "language_info": {
      "name": "python"
    }
  },
  "cells": [
    {
      "cell_type": "markdown",
      "metadata": {
        "id": "view-in-github",
        "colab_type": "text"
      },
      "source": [
        "<a href=\"https://colab.research.google.com/github/fedhafathimacc/LEARN.PY/blob/main/TASK_8.ipynb\" target=\"_parent\"><img src=\"https://colab.research.google.com/assets/colab-badge.svg\" alt=\"Open In Colab\"/></a>"
      ]
    },
    {
      "cell_type": "markdown",
      "metadata": {
        "id": "slsGswYbJSo7"
      },
      "source": [
        "1. Generate a 3 x 3 matrix using random module."
      ]
    },
    {
      "cell_type": "code",
      "metadata": {
        "id": "GGRQSYyNJW9t",
        "outputId": "70b06384-7426-4596-d55d-9f1f2c62cb74",
        "colab": {
          "base_uri": "https://localhost:8080/"
        }
      },
      "source": [
        "#please provide your answer below this line.\n",
        "import numpy as np\n",
        "array= np.random.randint(10,size=(3,3))\n",
        "print(array)\n"
      ],
      "execution_count": 1,
      "outputs": [
        {
          "output_type": "stream",
          "text": [
            "[[9 8 0]\n",
            " [1 9 4]\n",
            " [4 5 1]]\n"
          ],
          "name": "stdout"
        }
      ]
    },
    {
      "cell_type": "markdown",
      "metadata": {
        "id": "4OB9KFX6JfYA"
      },
      "source": [
        "2. Generate two 4 x 4 matrix using numpy and \n",
        "\n",
        " a) Reshape it to 2 x 8matrix and vertically stack it.\n",
        "\n",
        " b) Reshape it to 2 x 8 matrix and horizontally stack it."
      ]
    },
    {
      "cell_type": "code",
      "metadata": {
        "id": "VoIqYeNWJ4H_",
        "outputId": "d4dd817c-5e48-4fd7-d0c0-dae8d5a4a88a",
        "colab": {
          "base_uri": "https://localhost:8080/"
        }
      },
      "source": [
        "#please provide your answer below this line.\n",
        "import numpy as np\n",
        "array1= np.random.randint(10,size=(4,4))\n",
        "print(array1)\n",
        "array2=np.random.randint(10,size=(4,4))\n",
        "print(array2)\n",
        "x=array1.reshape(2,8)\n",
        "y=array2.reshape(2,8)\n",
        "print (np.vstack((x,y)))\n",
        "print (np.hstack((x,y)))"
      ],
      "execution_count": 2,
      "outputs": [
        {
          "output_type": "stream",
          "text": [
            "[[2 8 5 9]\n",
            " [2 6 9 9]\n",
            " [1 9 5 6]\n",
            " [1 4 2 7]]\n",
            "[[8 9 7 3]\n",
            " [8 1 7 7]\n",
            " [2 2 0 6]\n",
            " [9 9 3 0]]\n",
            "[[2 8 5 9 2 6 9 9]\n",
            " [1 9 5 6 1 4 2 7]\n",
            " [8 9 7 3 8 1 7 7]\n",
            " [2 2 0 6 9 9 3 0]]\n",
            "[[2 8 5 9 2 6 9 9 8 9 7 3 8 1 7 7]\n",
            " [1 9 5 6 1 4 2 7 2 2 0 6 9 9 3 0]]\n"
          ],
          "name": "stdout"
        }
      ]
    }
  ]
}